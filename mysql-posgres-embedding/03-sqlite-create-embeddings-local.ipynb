{
 "cells": [
  {
   "cell_type": "code",
   "execution_count": 3,
   "metadata": {},
   "outputs": [
    {
     "ename": "AttributeError",
     "evalue": "'sqlite3.Connection' object has no attribute 'enable_load_extension'",
     "output_type": "error",
     "traceback": [
      "\u001b[0;31m---------------------------------------------------------------------------\u001b[0m",
      "\u001b[0;31mAttributeError\u001b[0m                            Traceback (most recent call last)",
      "Cell \u001b[0;32mIn[3], line 3\u001b[0m\n\u001b[1;32m      1\u001b[0m \u001b[38;5;28;01mimport\u001b[39;00m \u001b[38;5;21;01msqlite3\u001b[39;00m\n\u001b[1;32m      2\u001b[0m con \u001b[38;5;241m=\u001b[39m sqlite3\u001b[38;5;241m.\u001b[39mconnect(\u001b[38;5;124m\"\u001b[39m\u001b[38;5;124mtest.db\u001b[39m\u001b[38;5;124m\"\u001b[39m)\n\u001b[0;32m----> 3\u001b[0m \u001b[43mcon\u001b[49m\u001b[38;5;241;43m.\u001b[39;49m\u001b[43menable_load_extension\u001b[49m(\u001b[38;5;28;01mTrue\u001b[39;00m)\n",
      "\u001b[0;31mAttributeError\u001b[0m: 'sqlite3.Connection' object has no attribute 'enable_load_extension'"
     ]
    }
   ],
   "source": [
    "import sqlite3\n",
    "con = sqlite3.connect(\"test.db\")\n",
    "con.enable_load_extension(True)"
   ]
  },
  {
   "cell_type": "code",
   "execution_count": null,
   "metadata": {
    "vscode": {
     "languageId": "sql"
    }
   },
   "outputs": [],
   "source": [
    ".bail on\n",
    ".mode table\n",
    ".header on\n",
    ".timer on\n",
    ".echo on\n",
    "\n",
    ".load ../../dist/lembed0\n",
    ".load ../../../sqlite-vec/dist/vec0\n",
    "\n",
    "INSERT INTO temp.lembed_models(name, model)\n",
    "  select 'all-MiniLM-L6-v2', lembed_model_from_file('all-MiniLM-L6-v2.e4ce9877.q8_0.gguf');\n",
    "\n",
    "\n",
    "create table articles(headline text);\n",
    "\n",
    "\n",
    "-- Random NPR headlines from 2024-06-04\n",
    "insert into articles VALUES\n",
    "  ('Shohei Ohtani''s ex-interpreter pleads guilty to charges related to gambling and theft'),\n",
    "  ('The jury has been selected in Hunter Biden''s gun trial'),\n",
    "  ('Larry Allen, a Super Bowl champion and famed Dallas Cowboy, has died at age 52'),\n",
    "  ('After saying Charlotte, a lone stingray, was pregnant, aquarium now says she''s sick'),\n",
    "  ('An Epoch Times executive is facing money laundering charge');\n",
    "\n",
    "\n",
    "-- Seed a vector table with embeddings of article headlines\n",
    "create virtual table vec_articles using vec0(headline_embeddings float[384]);\n",
    "\n",
    "\n",
    "insert into vec_articles(rowid, headline_embeddings)\n",
    "  select rowid, lembed('all-MiniLM-L6-v2', headline)\n",
    "  from articles;\n",
    "\n",
    "\n",
    ".param set :query 'firearm courtroom'\n",
    "\n",
    "with matches as (\n",
    "  select\n",
    "    rowid,\n",
    "    distance\n",
    "  from vec_articles\n",
    "  where headline_embeddings match lembed('all-MiniLM-L6-v2', :query)\n",
    "  order by distance\n",
    "  limit 3\n",
    ")\n",
    "select\n",
    "  headline,\n",
    "  distance\n",
    "from matches\n",
    "left join articles on articles.rowid = matches.rowid;"
   ]
  }
 ],
 "metadata": {
  "kernelspec": {
   "display_name": ".venv",
   "language": "python",
   "name": "python3"
  },
  "language_info": {
   "codemirror_mode": {
    "name": "ipython",
    "version": 3
   },
   "file_extension": ".py",
   "mimetype": "text/x-python",
   "name": "python",
   "nbconvert_exporter": "python",
   "pygments_lexer": "ipython3",
   "version": "3.12.1"
  }
 },
 "nbformat": 4,
 "nbformat_minor": 2
}
