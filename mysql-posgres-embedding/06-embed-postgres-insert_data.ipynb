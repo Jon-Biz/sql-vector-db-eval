{
 "cells": [
  {
   "cell_type": "markdown",
   "metadata": {},
   "source": [
    "https://python.plainenglish.io/saving-pandas-dataframe-into-django-models-a-step-by-step-guide-1900ade546b7"
   ]
  },
  {
   "cell_type": "markdown",
   "metadata": {},
   "source": [
    "#### Install Required Libraries\n"
   ]
  },
  {
   "cell_type": "code",
   "execution_count": null,
   "metadata": {},
   "outputs": [],
   "source": [
    "%pip install pandas django\n"
   ]
  },
  {
   "cell_type": "markdown",
   "metadata": {},
   "source": []
  },
  {
   "cell_type": "markdown",
   "metadata": {},
   "source": [
    "#### Setting Up Your Django Project\n"
   ]
  },
  {
   "cell_type": "code",
   "execution_count": null,
   "metadata": {},
   "outputs": [],
   "source": [
    "\n",
    "# models.py\n",
    "from django.db import models\n",
    "\n",
    "class YourModel(models.Model):\n",
    "    column1 = models.CharField(max_length=255)\n",
    "    column2 = models.IntegerField()\n",
    "    # add other fields as needed"
   ]
  },
  {
   "cell_type": "markdown",
   "metadata": {},
   "source": [
    "#### Read Data into Pandas DataFrame"
   ]
  },
  {
   "cell_type": "code",
   "execution_count": null,
   "metadata": {},
   "outputs": [],
   "source": [
    "# import pandas as pd\n",
    "\n",
    "data = pd.read_csv('your_data.csv')"
   ]
  },
  {
   "cell_type": "markdown",
   "metadata": {},
   "source": [
    "#### Convert DataFrame to Django Objects\n"
   ]
  },
  {
   "cell_type": "code",
   "execution_count": null,
   "metadata": {},
   "outputs": [],
   "source": [
    "# for index, row in data.iterrows():\n",
    "#     obj = YourModel(\n",
    "#         column1=row['column1'],\n",
    "#         column2=row['column2'],\n",
    "#         # assign other fields accordingly\n",
    "#     )\n",
    "#     obj.save()\n",
    "\n",
    "# Bulk Create for Efficiency\n",
    "YourModel.objects.bulk_create([\n",
    "    YourModel(column1=row['column1'], column2=row['column2']) for _, row in data.iterrows()\n",
    "])"
   ]
  },
  {
   "cell_type": "code",
   "execution_count": null,
   "metadata": {},
   "outputs": [],
   "source": [
    "llama-cli -ngl 99 --hf-repo \"nomic-ai/nomic-embed-text-v1.5-GGUF\"  --hf-file nomic-embed-text-v1.5.Q2_K.gguf -c 8192 -b 8192 --rope-scaling yarn --rope-freq-scale .75 -p 'search_query: What is TSNE?'"
   ]
  }
 ],
 "metadata": {
  "language_info": {
   "name": "python"
  }
 },
 "nbformat": 4,
 "nbformat_minor": 2
}
