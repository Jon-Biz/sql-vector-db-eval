{
 "cells": [
  {
   "cell_type": "code",
   "execution_count": 1,
   "metadata": {
    "vscode": {
     "languageId": "sql"
    }
   },
   "outputs": [],
   "source": [
    "import sqlite3 \n"
   ]
  },
  {
   "cell_type": "markdown",
   "metadata": {},
   "source": [
    "IMPORTANT: You need a Python kernal that's been compiled that has loadable sqlite extensions enabled. If you don't want to compile it yourself, use the package on Homebrew, which comes with the flag set.\n",
    "\n",
    "https://til.simonwillison.net/sqlite/sqlite-extensions-python-macos "
   ]
  },
  {
   "cell_type": "code",
   "execution_count": 2,
   "metadata": {
    "vscode": {
     "languageId": "sql"
    }
   },
   "outputs": [],
   "source": [
    "con = sqlite3.connect(\"/Users/Bumpant/Development/LLM/Rag/testLembed\")\n",
    "con.enable_load_extension(True)\n",
    "con.load_extension(\"../sqlite-lembed/lembed0\")\n",
    "con.load_extension(\"../sqlite-vec/vec0\")"
   ]
  },
  {
   "cell_type": "code",
   "execution_count": 3,
   "metadata": {
    "vscode": {
     "languageId": "sql"
    }
   },
   "outputs": [],
   "source": [
    "curs = con.cursor()\n"
   ]
  },
  {
   "cell_type": "code",
   "execution_count": 4,
   "metadata": {
    "vscode": {
     "languageId": "sql"
    }
   },
   "outputs": [
    {
     "data": {
      "text/plain": [
       "<sqlite3.Cursor at 0x105aad5c0>"
      ]
     },
     "execution_count": 4,
     "metadata": {},
     "output_type": "execute_result"
    }
   ],
   "source": [
    "curs.execute(\"INSERT INTO temp.lembed_models(name, model) select 'nomic-embed-text-1.5', lembed_model_from_file('/Users/Bumpant/Development/LLM/Rag/nomic-embed-text-v1.5.Q2_K.gguf');\")\n"
   ]
  },
  {
   "cell_type": "code",
   "execution_count": 63,
   "metadata": {},
   "outputs": [
    {
     "data": {
      "text/plain": [
       "<sqlite3.Cursor at 0x10f7462c0>"
      ]
     },
     "execution_count": 63,
     "metadata": {},
     "output_type": "execute_result"
    }
   ],
   "source": [
    "curs.execute('create table articles(headline text);')\n",
    "\n",
    "# -- Random NPR headlines from 2024-06-04\n",
    "curs.execute(\"insert into articles VALUES('Shohei Ohtani''s ex-interpreter pleads guilty to charges related to gambling and theft'),('The jury has been selected in Hunter Biden''s gun trial'),('Larry Allen, a Super Bowl champion and famed Dallas Cowboy, has died at age 52'),('After saying Charlotte, a lone stingray, was pregnant, aquarium now says she''s sick'),('An Epoch Times executive is facing money laundering charge');\");\n",
    "\n",
    "# -- Build a vector table with embeddings of article headlines, using OpenAI's API\n",
    "curs.execute('create virtual table vec_articles using vec0(headline_embeddings float[768]);')\n",
    "\n",
    "curs.execute(\"insert into vec_articles(rowid, headline_embeddings) select rowid, lembed('nomic-embed-text-1.5', headline) from articles;\")\n",
    "\n"
   ]
  },
  {
   "cell_type": "code",
   "execution_count": 64,
   "metadata": {},
   "outputs": [
    {
     "name": "stdout",
     "output_type": "stream",
     "text": [
      "[(\"The jury has been selected in Hunter Biden's gun trial\", 0.509064257144928), ('Larry Allen, a Super Bowl champion and famed Dallas Cowboy, has died at age 52', 0.5173013806343079), (\"After saying Charlotte, a lone stingray, was pregnant, aquarium now says she's sick\", 0.5219035744667053)]\n"
     ]
    }
   ],
   "source": [
    "curs.execute(\"with matches as (select rowid, distance from vec_articles where headline_embeddings match lembed('nomic-embed-text-1.5', 'now says she is sick') order by distance limit 3) select headline, distance from matches left join articles on articles.rowid = matches.rowid;\")\n",
    "\n",
    "print(curs.fetchall())\n"
   ]
  },
  {
   "cell_type": "code",
   "execution_count": 5,
   "metadata": {},
   "outputs": [],
   "source": [
    "con.close()"
   ]
  }
 ],
 "metadata": {
  "kernelspec": {
   "display_name": "Python 3",
   "language": "python",
   "name": "python3"
  },
  "language_info": {
   "codemirror_mode": {
    "name": "ipython",
    "version": 3
   },
   "file_extension": ".py",
   "mimetype": "text/x-python",
   "name": "python",
   "nbconvert_exporter": "python",
   "pygments_lexer": "ipython3",
   "version": "3.12.3"
  }
 },
 "nbformat": 4,
 "nbformat_minor": 2
}
